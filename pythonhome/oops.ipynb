{
 "cells": [
  {
   "cell_type": "code",
   "execution_count": 6,
   "metadata": {},
   "outputs": [
    {
     "name": "stdout",
     "output_type": "stream",
     "text": [
      "this is method 1\n",
      "this is m2 4\n",
      "self method\n"
     ]
    }
   ],
   "source": [
    "class sample():\n",
    "    def m1(self):\n",
    "        print(\"this is method 1\")\n",
    "    def m2(self,x):\n",
    "        print(\"this is m2\", x)\n",
    "    def m3(self):\n",
    "        print(\"self method\")\n",
    "\n",
    "a = sample()\n",
    "a.m1()\n",
    "a.m2(4)\n",
    "a.m3()"
   ]
  },
  {
   "cell_type": "code",
   "execution_count": 19,
   "metadata": {},
   "outputs": [
    {
     "name": "stdout",
     "output_type": "stream",
     "text": [
      "this is method 1\n",
      "this is m2 5\n",
      "child class m2 4\n"
     ]
    }
   ],
   "source": [
    "class child(sample): #inheritance\n",
    "    def m2(self,x):\n",
    "        sample.m2(self,5) #call parent method\n",
    "        print(\"child class m2\",x)\n",
    "\n",
    "def main():\n",
    "    c = child()\n",
    "    c.m1()\n",
    "    c.m2(4)\n",
    "    \n",
    "main()"
   ]
  },
  {
   "cell_type": "code",
   "execution_count": 27,
   "metadata": {},
   "outputs": [
    {
     "name": "stdout",
     "output_type": "stream",
     "text": [
      "Hello tim\n"
     ]
    }
   ],
   "source": [
    "class user():\n",
    "    name=\"\"\n",
    "    def __init__(self,name): #constructor\n",
    "        self.name = name\n",
    "    \n",
    "    def sayHello(self):\n",
    "        print(\"Hello\", self.name)\n",
    "\n",
    "user1 = user('tim')\n",
    "user1.sayHello()"
   ]
  },
  {
   "cell_type": "code",
   "execution_count": null,
   "metadata": {},
   "outputs": [],
   "source": []
  }
 ],
 "metadata": {
  "kernelspec": {
   "display_name": "Python 3",
   "language": "python",
   "name": "python3"
  },
  "language_info": {
   "codemirror_mode": {
    "name": "ipython",
    "version": 3
   },
   "file_extension": ".py",
   "mimetype": "text/x-python",
   "name": "python",
   "nbconvert_exporter": "python",
   "pygments_lexer": "ipython3",
   "version": "3.7.1"
  }
 },
 "nbformat": 4,
 "nbformat_minor": 2
}
