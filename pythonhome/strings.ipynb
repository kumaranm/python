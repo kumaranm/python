{
 "cells": [
  {
   "cell_type": "code",
   "execution_count": 61,
   "metadata": {},
   "outputs": [
    {
     "name": "stdout",
     "output_type": "stream",
     "text": [
      "Sample Testing\n",
      "var1[0]: S\n",
      "var2[1:5]: esti\n",
      "e in var1: True\n",
      "f in var1: False\n",
      "f not in var1: True\n",
      "e not in var1: False\n",
      "ple\n",
      "Samp\n",
      "Simple\n",
      "Sample\n",
      "SAMPLE\n",
      "testing\n",
      "S:a:m:p:l:e\n",
      "g-n-i-t-s-e-T\n",
      "['testing', 'a', 'python', 'code']\n"
     ]
    }
   ],
   "source": [
    "var1=\"Sample\"\n",
    "var2=\"Testing\"\n",
    "print(var1,var2)\n",
    "print(\"var1[0]:\",var1[0])\n",
    "#slicing\n",
    "print(\"var2[1:5]:\",var2[1:5])\n",
    "print(\"e in var1:\", 'e' in var1)\n",
    "print(\"f in var1:\", 'f' in var1)\n",
    "print(\"f not in var1:\", 'f' not in var1)\n",
    "print(\"e not in var1:\", 'e' not in var1)\n",
    "print(var1[3:6])\n",
    "print(var1[:4])\n",
    "print(var1.replace('am','im'))\n",
    "print(var1)\n",
    "print(var1.upper())\n",
    "print(var2.lower())\n",
    "print(\":\".join(var1))\n",
    "print(\"-\".join(reversed(var2)))\n",
    "word=\"testing a python code\"\n",
    "print(word.split(' '))"
   ]
  },
  {
   "cell_type": "code",
   "execution_count": 42,
   "metadata": {},
   "outputs": [
    {
     "name": "stdout",
     "output_type": "stream",
     "text": [
      "abc/n\n",
      "abc/n\n",
      "test 99 sdd\n",
      "today is 30 of march. it is a Wed\n"
     ]
    }
   ],
   "source": [
    "print(r'abc/n')\n",
    "print('abc/n')\n",
    "\n",
    "print('%s %d %s' %('test',99,'sdd'))\n",
    "print('today is %r of %s. it is a %s' %(30,\"march\",'Wed'))"
   ]
  },
  {
   "cell_type": "code",
   "execution_count": null,
   "metadata": {},
   "outputs": [],
   "source": []
  }
 ],
 "metadata": {
  "kernelspec": {
   "display_name": "Python 3",
   "language": "python",
   "name": "python3"
  },
  "language_info": {
   "codemirror_mode": {
    "name": "ipython",
    "version": 3
   },
   "file_extension": ".py",
   "mimetype": "text/x-python",
   "name": "python",
   "nbconvert_exporter": "python",
   "pygments_lexer": "ipython3",
   "version": "3.7.1"
  }
 },
 "nbformat": 4,
 "nbformat_minor": 2
}
