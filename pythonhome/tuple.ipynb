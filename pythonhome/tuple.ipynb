{
 "cells": [
  {
   "cell_type": "code",
   "execution_count": 7,
   "metadata": {},
   "outputs": [
    {
     "name": "stdout",
     "output_type": "stream",
     "text": [
      "('jan', 'feb', 'mar')\n",
      "('a',)\n"
     ]
    }
   ],
   "source": [
    "#list can be changed, tuples cannot be changed\n",
    "tup=('jan','feb','mar')\n",
    "print(tup)\n",
    "tup1=('a')\n",
    "print(tup1)"
   ]
  },
  {
   "cell_type": "code",
   "execution_count": 1,
   "metadata": {},
   "outputs": [
    {
     "name": "stdout",
     "output_type": "stream",
     "text": [
      "Robert\n",
      "(2, 3, 4)\n"
     ]
    }
   ],
   "source": [
    "tup1 = ('Robert', 'Carlos', 1965, 'Terminator 1995', 'actor','Florida')\n",
    "tup2 = (1,2,3,4,5,6,7)\n",
    "print(tup1[0])\n",
    "print(tup2[1:4])"
   ]
  },
  {
   "cell_type": "code",
   "execution_count": 5,
   "metadata": {},
   "outputs": [
    {
     "name": "stdout",
     "output_type": "stream",
     "text": [
      "Test\n",
      "20\n",
      "Education\n"
     ]
    }
   ],
   "source": [
    "x = ('Test', 20, 'Education') #packing\n",
    "(company, emp, profile) = x #unpacking\n",
    "print(company)\n",
    "print(emp)\n",
    "print(profile)"
   ]
  },
  {
   "cell_type": "code",
   "execution_count": 9,
   "metadata": {},
   "outputs": [
    {
     "name": "stdout",
     "output_type": "stream",
     "text": [
      "Test\n"
     ]
    }
   ],
   "source": [
    "y = ('Test', 20, 'Education')\n",
    "(varia,bg,cg) = y\n",
    "print(varia)"
   ]
  },
  {
   "cell_type": "code",
   "execution_count": 18,
   "metadata": {},
   "outputs": [
    {
     "name": "stdout",
     "output_type": "stream",
     "text": [
      "b is bigger\n"
     ]
    }
   ],
   "source": [
    "a= (5,6)\n",
    "b=(6,4)\n",
    "if a>b: print ('a is bigger')\n",
    "else: print ('b is bigger')"
   ]
  },
  {
   "cell_type": "code",
   "execution_count": 19,
   "metadata": {},
   "outputs": [
    {
     "name": "stdout",
     "output_type": "stream",
     "text": [
      "[('x', 100), ('y', 200)]\n"
     ]
    }
   ],
   "source": [
    "a = {'x':100, 'y':200}\n",
    "b = list(a.items())\n",
    "print(b) "
   ]
  },
  {
   "cell_type": "code",
   "execution_count": null,
   "metadata": {},
   "outputs": [],
   "source": []
  }
 ],
 "metadata": {
  "kernelspec": {
   "display_name": "Python 3",
   "language": "python",
   "name": "python3"
  },
  "language_info": {
   "codemirror_mode": {
    "name": "ipython",
    "version": 3
   },
   "file_extension": ".py",
   "mimetype": "text/x-python",
   "name": "python",
   "nbconvert_exporter": "python",
   "pygments_lexer": "ipython3",
   "version": "3.7.1"
  }
 },
 "nbformat": 4,
 "nbformat_minor": 2
}
