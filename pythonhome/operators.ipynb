{
 "cells": [
  {
   "cell_type": "code",
   "execution_count": 4,
   "metadata": {},
   "outputs": [
    {
     "name": "stdout",
     "output_type": "stream",
     "text": [
      "multiplication:  20\n",
      "addition 9\n",
      "division 1.25\n",
      "int division 1\n",
      "exponent 625\n",
      "modulus 1\n",
      "greater True\n",
      "lesser False\n",
      "equal False\n",
      "and False\n",
      "or True\n",
      "not True\n",
      "true\n"
     ]
    }
   ],
   "source": [
    "a=4\n",
    "b=5\n",
    "print('multiplication: ',a*b)\n",
    "print('addition',4+5)\n",
    "print('division',5/4)\n",
    "print('int division',5//4)\n",
    "print('exponent', 5**4)\n",
    "print('modulus', 5%4)\n",
    "print('greater', 5>4)\n",
    "print('lesser',5<4)\n",
    "print('equal',5==4)\n",
    "\n",
    "c= False\n",
    "d = True\n",
    "print('and', c and d)\n",
    "print('or', c or d)\n",
    "print('not', not c)\n",
    "\n",
    "e = [1,2,3,4,5]\n",
    "f = 3\n",
    "if f in e:\n",
    "    print('true')\n",
    "elif f not in e:\n",
    "    print('false')"
   ]
  },
  {
   "cell_type": "code",
   "execution_count": null,
   "metadata": {},
   "outputs": [],
   "source": []
  }
 ],
 "metadata": {
  "kernelspec": {
   "display_name": "Python 3",
   "language": "python",
   "name": "python3"
  },
  "language_info": {
   "codemirror_mode": {
    "name": "ipython",
    "version": 3
   },
   "file_extension": ".py",
   "mimetype": "text/x-python",
   "name": "python",
   "nbconvert_exporter": "python",
   "pygments_lexer": "ipython3",
   "version": "3.7.1"
  }
 },
 "nbformat": 4,
 "nbformat_minor": 2
}
