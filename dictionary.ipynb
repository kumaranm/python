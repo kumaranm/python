{
 "cells": [
  {
   "cell_type": "code",
   "execution_count": 3,
   "metadata": {},
   "outputs": [
    {
     "name": "stdout",
     "output_type": "stream",
     "text": [
      "{'John': 20, 'Jane': 21, 'Kan': 40}\n",
      "40\n"
     ]
    }
   ],
   "source": [
    "dict = {'John':20, 'Jane':21, 'Kan':32, 'Kan':40}\n",
    "print(dict)\n",
    "print(dict['Kan'])"
   ]
  },
  {
   "cell_type": "code",
   "execution_count": 12,
   "metadata": {},
   "outputs": [
    {
     "name": "stdout",
     "output_type": "stream",
     "text": [
      "{'John': 20, 'Jane': 21, 'Doe': 34}\n"
     ]
    }
   ],
   "source": [
    "y = dict.copy()\n",
    "print(y)"
   ]
  },
  {
   "cell_type": "code",
   "execution_count": 5,
   "metadata": {},
   "outputs": [
    {
     "name": "stdout",
     "output_type": "stream",
     "text": [
      "{'John': 20, 'Jane': 21, 'Kan': 22}\n",
      "{'John': 20, 'Jane': 21, 'Kan': 40}\n"
     ]
    }
   ],
   "source": [
    "dict['Kan'] = 22\n",
    "print(dict)\n",
    "print(y)"
   ]
  },
  {
   "cell_type": "code",
   "execution_count": 7,
   "metadata": {},
   "outputs": [
    {
     "name": "stdout",
     "output_type": "stream",
     "text": [
      "{'John': 20, 'Jane': 21, 'Kan': 22, 'Doe': 34}\n"
     ]
    }
   ],
   "source": [
    "dict.update({'Doe':34})\n",
    "print(dict)"
   ]
  },
  {
   "cell_type": "code",
   "execution_count": 8,
   "metadata": {},
   "outputs": [
    {
     "name": "stdout",
     "output_type": "stream",
     "text": [
      "{'John': 20, 'Jane': 21, 'Doe': 34}\n"
     ]
    }
   ],
   "source": [
    "del dict['Kan']\n",
    "print(dict)"
   ]
  },
  {
   "cell_type": "code",
   "execution_count": 9,
   "metadata": {},
   "outputs": [
    {
     "name": "stdout",
     "output_type": "stream",
     "text": [
      "Names: [('John', 20), ('Jane', 21), ('Doe', 34)]\n"
     ]
    }
   ],
   "source": [
    "print('Names: %s' %list(dict.items()))"
   ]
  },
  {
   "cell_type": "code",
   "execution_count": 13,
   "metadata": {},
   "outputs": [
    {
     "name": "stdout",
     "output_type": "stream",
     "text": [
      "present\n",
      "present\n",
      "present\n"
     ]
    }
   ],
   "source": [
    "for key in dict.keys():\n",
    "    if(key in y.keys()):\n",
    "        print('present')\n",
    "    else: \n",
    "        print('not present')"
   ]
  },
  {
   "cell_type": "code",
   "execution_count": 28,
   "metadata": {},
   "outputs": [
    {
     "name": "stdout",
     "output_type": "stream",
     "text": [
      "34\n",
      "21\n",
      "20\n",
      "3\n",
      "variable Type: <class 'dict'>\n",
      "variable Type: {'John': 20, 'Jane': 21, 'Doe': 34}\n"
     ]
    }
   ],
   "source": [
    "x = list(dict.keys())\n",
    "x.sort()\n",
    "for s in x:\n",
    "    print(dict[s])\n",
    "    #print(\":\".join((x,str(dict[x]))))\n",
    "print(len(dict))\n",
    "print(\"variable Type: %s\" %type (dict))\n",
    "print(\"variable Type: %s\" %str (dict))\n"
   ]
  },
  {
   "cell_type": "code",
   "execution_count": null,
   "metadata": {},
   "outputs": [],
   "source": []
  }
 ],
 "metadata": {
  "kernelspec": {
   "display_name": "Python 3",
   "language": "python",
   "name": "python3"
  },
  "language_info": {
   "codemirror_mode": {
    "name": "ipython",
    "version": 3
   },
   "file_extension": ".py",
   "mimetype": "text/x-python",
   "name": "python",
   "nbconvert_exporter": "python",
   "pygments_lexer": "ipython3",
   "version": "3.7.1"
  }
 },
 "nbformat": 4,
 "nbformat_minor": 2
}
