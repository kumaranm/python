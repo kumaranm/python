{
 "cells": [
  {
   "cell_type": "code",
   "execution_count": 3,
   "metadata": {},
   "outputs": [
    {
     "name": "stdout",
     "output_type": "stream",
     "text": [
      "['the']\n",
      "['t']\n"
     ]
    }
   ],
   "source": [
    "import re\n",
    "x = \"the quick brown fox jumped over the lazy dog\"\n",
    "r1 = re.findall(r\"^\\w+\",x)\n",
    "print(r1)\n",
    "r2 = re.findall(r\"^\\w\",x)\n",
    "print(r2)"
   ]
  },
  {
   "cell_type": "code",
   "execution_count": 22,
   "metadata": {},
   "outputs": [
    {
     "name": "stdout",
     "output_type": "stream",
     "text": [
      "['the quick brown fox jumped over the lazy dog']\n",
      "['the', 'quick', 'brown', 'fox', 'jumped', 'over', 'the', 'lazy', 'dog']\n"
     ]
    }
   ],
   "source": [
    "import re\n",
    "x = \"the quick brown fox jumped over the lazy dog\"\n",
    "print(re.split(r\"s\",x))\n",
    "print(re.split(r\"\\s\",x))"
   ]
  },
  {
   "cell_type": "code",
   "execution_count": 24,
   "metadata": {},
   "outputs": [
    {
     "name": "stdout",
     "output_type": "stream",
     "text": [
      "('abc', 'a123')\n"
     ]
    }
   ],
   "source": [
    "import re\n",
    "x = \"the quick brown fox jumped over the lazy dog\"\n",
    "list= [\"abc a123\",\"abc b134\",\"abd c345\"]\n",
    "for element in list:\n",
    "    z=re.match(\"(a\\w+)\\W(a\\w+)\",element)\n",
    "    if z:\n",
    "        print(z.groups())\n"
   ]
  },
  {
   "cell_type": "code",
   "execution_count": 28,
   "metadata": {},
   "outputs": [
    {
     "name": "stdout",
     "output_type": "stream",
     "text": [
      "looking for abcde in dog food no match\n",
      "looking for dog in dog food found a match\n",
      "looking for god in dog food no match\n"
     ]
    }
   ],
   "source": [
    "import re\n",
    "patterns =[\"abcde\",\"dog\",\"god\"]\n",
    "text = \"dog food\"\n",
    "for pattern in patterns:\n",
    "    print(\"looking for %s in %s\" %(pattern,text),end=' ')\n",
    "    if(re.search(pattern,text)):\n",
    "        print(\"found a match\")\n",
    "    else:\n",
    "        print(\"no match\")\n",
    "\n",
    "        "
   ]
  },
  {
   "cell_type": "code",
   "execution_count": null,
   "metadata": {},
   "outputs": [],
   "source": []
  },
  {
   "cell_type": "code",
   "execution_count": null,
   "metadata": {},
   "outputs": [],
   "source": []
  },
  {
   "cell_type": "code",
   "execution_count": null,
   "metadata": {},
   "outputs": [],
   "source": []
  }
 ],
 "metadata": {
  "kernelspec": {
   "display_name": "Python 3",
   "language": "python",
   "name": "python3"
  },
  "language_info": {
   "codemirror_mode": {
    "name": "ipython",
    "version": 3
   },
   "file_extension": ".py",
   "mimetype": "text/x-python",
   "name": "python",
   "nbconvert_exporter": "python",
   "pygments_lexer": "ipython3",
   "version": "3.7.1"
  }
 },
 "nbformat": 4,
 "nbformat_minor": 2
}
